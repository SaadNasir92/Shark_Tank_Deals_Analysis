{
 "cells": [
  {
   "cell_type": "markdown",
   "metadata": {},
   "source": [
    "### Insights for Cleaning checklist\n",
    " - Entrepreneurs are irrelevant to analysis - good to ignore, will keep for database purposes.\n",
    " - Websites are irrelevant to analysis - good to ignore, will keep for database purposes.\n",
    " - Episode/season column imported as a date time, will use as a key in the database so need to transform column/mutate to non-date time"
   ]
  },
  {
   "cell_type": "code",
   "execution_count": 23,
   "metadata": {},
   "outputs": [],
   "source": [
    "# Imports\n",
    "import pandas as pd\n",
    "import matplotlib.pyplot as plt\n",
    "from src.util import check_nulls\n"
   ]
  },
  {
   "cell_type": "code",
   "execution_count": 2,
   "metadata": {},
   "outputs": [],
   "source": [
    "df = pd.read_excel('datasets/Shark Tank Companies.xlsx')"
   ]
  },
  {
   "cell_type": "code",
   "execution_count": 3,
   "metadata": {},
   "outputs": [
    {
     "data": {
      "text/html": [
       "<div>\n",
       "<style scoped>\n",
       "    .dataframe tbody tr th:only-of-type {\n",
       "        vertical-align: middle;\n",
       "    }\n",
       "\n",
       "    .dataframe tbody tr th {\n",
       "        vertical-align: top;\n",
       "    }\n",
       "\n",
       "    .dataframe thead th {\n",
       "        text-align: right;\n",
       "    }\n",
       "</style>\n",
       "<table border=\"1\" class=\"dataframe\">\n",
       "  <thead>\n",
       "    <tr style=\"text-align: right;\">\n",
       "      <th></th>\n",
       "      <th>deal</th>\n",
       "      <th>description</th>\n",
       "      <th>episode</th>\n",
       "      <th>category</th>\n",
       "      <th>entrepreneurs</th>\n",
       "      <th>location</th>\n",
       "      <th>website</th>\n",
       "      <th>askedFor</th>\n",
       "      <th>exchangeForStake</th>\n",
       "      <th>valuation</th>\n",
       "      <th>season</th>\n",
       "      <th>shark1</th>\n",
       "      <th>shark2</th>\n",
       "      <th>shark3</th>\n",
       "      <th>shark4</th>\n",
       "      <th>shark5</th>\n",
       "      <th>title</th>\n",
       "      <th>episode-season</th>\n",
       "      <th>Multiple Entreprenuers</th>\n",
       "    </tr>\n",
       "  </thead>\n",
       "  <tbody>\n",
       "    <tr>\n",
       "      <th>158</th>\n",
       "      <td>False</td>\n",
       "      <td>A home gym for a total body workout.</td>\n",
       "      <td>15</td>\n",
       "      <td>Fitness Equipment</td>\n",
       "      <td>Frank Campitelli and Debrae Barensfeld</td>\n",
       "      <td>Akron, OH</td>\n",
       "      <td>http://www.thenitroforce.com/</td>\n",
       "      <td>250000</td>\n",
       "      <td>10</td>\n",
       "      <td>2500000</td>\n",
       "      <td>3</td>\n",
       "      <td>Barbara Corcoran</td>\n",
       "      <td>Robert Herjavec</td>\n",
       "      <td>Kevin O'Leary</td>\n",
       "      <td>Daymond John</td>\n",
       "      <td>Mark Cuban</td>\n",
       "      <td>Nitroforce Industries</td>\n",
       "      <td>2015-03-01</td>\n",
       "      <td>True</td>\n",
       "    </tr>\n",
       "    <tr>\n",
       "      <th>38</th>\n",
       "      <td>True</td>\n",
       "      <td>Women's apparel specially designed for sizes 1...</td>\n",
       "      <td>9</td>\n",
       "      <td>Women's Apparel</td>\n",
       "      <td>Gayla Bentley</td>\n",
       "      <td>Houston, TX</td>\n",
       "      <td>http://www.gaylabentley.com/</td>\n",
       "      <td>250000</td>\n",
       "      <td>20</td>\n",
       "      <td>1250000</td>\n",
       "      <td>1</td>\n",
       "      <td>Barbara Corcoran</td>\n",
       "      <td>Robert Herjavec</td>\n",
       "      <td>Kevin O'Leary</td>\n",
       "      <td>Daymond John</td>\n",
       "      <td>Kevin Harrington</td>\n",
       "      <td>Gayla Bentley Fashion</td>\n",
       "      <td>2023-09-01</td>\n",
       "      <td>False</td>\n",
       "    </tr>\n",
       "    <tr>\n",
       "      <th>119</th>\n",
       "      <td>True</td>\n",
       "      <td>Adjustable necklaces and bracelets with interc...</td>\n",
       "      <td>5</td>\n",
       "      <td>Baby and Children's Apparel and Accessories</td>\n",
       "      <td>Maddie, Margot and Diane Bradshaw</td>\n",
       "      <td>Dallas, TX</td>\n",
       "      <td>http://www.snapcapsonline.com/</td>\n",
       "      <td>300000</td>\n",
       "      <td>15</td>\n",
       "      <td>2000000</td>\n",
       "      <td>3</td>\n",
       "      <td>Lori Greiner</td>\n",
       "      <td>Robert Herjavec</td>\n",
       "      <td>Kevin O'Leary</td>\n",
       "      <td>Daymond John</td>\n",
       "      <td>Mark Cuban</td>\n",
       "      <td>M3 Girl Designs</td>\n",
       "      <td>2023-05-03</td>\n",
       "      <td>True</td>\n",
       "    </tr>\n",
       "    <tr>\n",
       "      <th>134</th>\n",
       "      <td>True</td>\n",
       "      <td>Stand-up paddle boarding products.</td>\n",
       "      <td>9</td>\n",
       "      <td>Outdoor Recreation</td>\n",
       "      <td>Stephan Aarstol</td>\n",
       "      <td>San Diego, CA</td>\n",
       "      <td>http://www.towerpaddleboards.com/</td>\n",
       "      <td>150000</td>\n",
       "      <td>10</td>\n",
       "      <td>1500000</td>\n",
       "      <td>3</td>\n",
       "      <td>Barbara Corcoran</td>\n",
       "      <td>Robert Herjavec</td>\n",
       "      <td>Kevin O'Leary</td>\n",
       "      <td>Daymond John</td>\n",
       "      <td>Mark Cuban</td>\n",
       "      <td>Tower Paddle Boards</td>\n",
       "      <td>2023-09-03</td>\n",
       "      <td>False</td>\n",
       "    </tr>\n",
       "  </tbody>\n",
       "</table>\n",
       "</div>"
      ],
      "text/plain": [
       "      deal                                        description  episode  \\\n",
       "158  False               A home gym for a total body workout.       15   \n",
       "38    True  Women's apparel specially designed for sizes 1...        9   \n",
       "119   True  Adjustable necklaces and bracelets with interc...        5   \n",
       "134   True                 Stand-up paddle boarding products.        9   \n",
       "\n",
       "                                        category  \\\n",
       "158                            Fitness Equipment   \n",
       "38                               Women's Apparel   \n",
       "119  Baby and Children's Apparel and Accessories   \n",
       "134                           Outdoor Recreation   \n",
       "\n",
       "                              entrepreneurs       location  \\\n",
       "158  Frank Campitelli and Debrae Barensfeld      Akron, OH   \n",
       "38                            Gayla Bentley    Houston, TX   \n",
       "119       Maddie, Margot and Diane Bradshaw     Dallas, TX   \n",
       "134                         Stephan Aarstol  San Diego, CA   \n",
       "\n",
       "                               website  askedFor  exchangeForStake  valuation  \\\n",
       "158      http://www.thenitroforce.com/    250000                10    2500000   \n",
       "38        http://www.gaylabentley.com/    250000                20    1250000   \n",
       "119     http://www.snapcapsonline.com/    300000                15    2000000   \n",
       "134  http://www.towerpaddleboards.com/    150000                10    1500000   \n",
       "\n",
       "     season            shark1           shark2         shark3        shark4  \\\n",
       "158       3  Barbara Corcoran  Robert Herjavec  Kevin O'Leary  Daymond John   \n",
       "38        1  Barbara Corcoran  Robert Herjavec  Kevin O'Leary  Daymond John   \n",
       "119       3      Lori Greiner  Robert Herjavec  Kevin O'Leary  Daymond John   \n",
       "134       3  Barbara Corcoran  Robert Herjavec  Kevin O'Leary  Daymond John   \n",
       "\n",
       "               shark5                  title episode-season  \\\n",
       "158        Mark Cuban  Nitroforce Industries     2015-03-01   \n",
       "38   Kevin Harrington  Gayla Bentley Fashion     2023-09-01   \n",
       "119        Mark Cuban        M3 Girl Designs     2023-05-03   \n",
       "134        Mark Cuban    Tower Paddle Boards     2023-09-03   \n",
       "\n",
       "     Multiple Entreprenuers  \n",
       "158                    True  \n",
       "38                    False  \n",
       "119                    True  \n",
       "134                   False  "
      ]
     },
     "execution_count": 3,
     "metadata": {},
     "output_type": "execute_result"
    }
   ],
   "source": [
    "df.sample(4)"
   ]
  },
  {
   "cell_type": "code",
   "execution_count": 15,
   "metadata": {},
   "outputs": [
    {
     "name": "stdout",
     "output_type": "stream",
     "text": [
      "deal: 0\n",
      "description: {'standard_nulls': 0, 'empty_strings': 0, 'specific_values': 0, 'whitespace_only': 0}\n",
      "episode: 0\n",
      "category: {'standard_nulls': 0, 'empty_strings': 0, 'specific_values': 0, 'whitespace_only': 0}\n",
      "entrepreneurs: {'standard_nulls': 72, 'empty_strings': 0, 'specific_values': 0, 'whitespace_only': 0}\n",
      "location: {'standard_nulls': 0, 'empty_strings': 0, 'specific_values': 0, 'whitespace_only': 0}\n",
      "website: {'standard_nulls': 38, 'empty_strings': 0, 'specific_values': 0, 'whitespace_only': 0}\n",
      "askedFor: 0\n",
      "exchangeForStake: 0\n",
      "valuation: 0\n",
      "season: 0\n",
      "shark1: {'standard_nulls': 0, 'empty_strings': 0, 'specific_values': 0, 'whitespace_only': 0}\n",
      "shark2: {'standard_nulls': 0, 'empty_strings': 0, 'specific_values': 0, 'whitespace_only': 0}\n",
      "shark3: {'standard_nulls': 0, 'empty_strings': 0, 'specific_values': 0, 'whitespace_only': 0}\n",
      "shark4: {'standard_nulls': 0, 'empty_strings': 0, 'specific_values': 0, 'whitespace_only': 0}\n",
      "shark5: {'standard_nulls': 0, 'empty_strings': 0, 'specific_values': 0, 'whitespace_only': 0}\n",
      "title: {'standard_nulls': 0, 'empty_strings': 0, 'specific_values': 0, 'whitespace_only': 0}\n",
      "episode-season: {'invalid_dates': 0}\n",
      "Multiple Entreprenuers: 0\n"
     ]
    }
   ],
   "source": [
    "summary_dict = check_nulls(df)\n",
    "\n",
    "for k, v in summary_dict.items():\n",
    "    print(f'{k}: {v}')"
   ]
  },
  {
   "cell_type": "code",
   "execution_count": 4,
   "metadata": {},
   "outputs": [
    {
     "data": {
      "text/plain": [
       "deal                       0\n",
       "description                0\n",
       "episode                    0\n",
       "category                   0\n",
       "entrepreneurs             72\n",
       "location                   0\n",
       "website                   38\n",
       "askedFor                   0\n",
       "exchangeForStake           0\n",
       "valuation                  0\n",
       "season                     0\n",
       "shark1                     0\n",
       "shark2                     0\n",
       "shark3                     0\n",
       "shark4                     0\n",
       "shark5                     0\n",
       "title                      0\n",
       "episode-season             0\n",
       "Multiple Entreprenuers     0\n",
       "dtype: int64"
      ]
     },
     "execution_count": 4,
     "metadata": {},
     "output_type": "execute_result"
    }
   ],
   "source": [
    "df.isnull().sum()"
   ]
  },
  {
   "cell_type": "code",
   "execution_count": 5,
   "metadata": {},
   "outputs": [
    {
     "data": {
      "text/html": [
       "<div>\n",
       "<style scoped>\n",
       "    .dataframe tbody tr th:only-of-type {\n",
       "        vertical-align: middle;\n",
       "    }\n",
       "\n",
       "    .dataframe tbody tr th {\n",
       "        vertical-align: top;\n",
       "    }\n",
       "\n",
       "    .dataframe thead th {\n",
       "        text-align: right;\n",
       "    }\n",
       "</style>\n",
       "<table border=\"1\" class=\"dataframe\">\n",
       "  <thead>\n",
       "    <tr style=\"text-align: right;\">\n",
       "      <th></th>\n",
       "      <th>deal</th>\n",
       "      <th>description</th>\n",
       "      <th>episode</th>\n",
       "      <th>category</th>\n",
       "      <th>entrepreneurs</th>\n",
       "      <th>location</th>\n",
       "      <th>website</th>\n",
       "      <th>askedFor</th>\n",
       "      <th>exchangeForStake</th>\n",
       "      <th>valuation</th>\n",
       "      <th>season</th>\n",
       "      <th>shark1</th>\n",
       "      <th>shark2</th>\n",
       "      <th>shark3</th>\n",
       "      <th>shark4</th>\n",
       "      <th>shark5</th>\n",
       "      <th>title</th>\n",
       "      <th>episode-season</th>\n",
       "      <th>Multiple Entreprenuers</th>\n",
       "    </tr>\n",
       "  </thead>\n",
       "  <tbody>\n",
       "    <tr>\n",
       "      <th>0</th>\n",
       "      <td>False</td>\n",
       "      <td>Bluetooth device implant for your ear.</td>\n",
       "      <td>1</td>\n",
       "      <td>Novelties</td>\n",
       "      <td>Darrin Johnson</td>\n",
       "      <td>St. Paul, MN</td>\n",
       "      <td>NaN</td>\n",
       "      <td>1000000</td>\n",
       "      <td>15</td>\n",
       "      <td>6666667</td>\n",
       "      <td>1</td>\n",
       "      <td>Barbara Corcoran</td>\n",
       "      <td>Robert Herjavec</td>\n",
       "      <td>Kevin O'Leary</td>\n",
       "      <td>Daymond John</td>\n",
       "      <td>Kevin Harrington</td>\n",
       "      <td>Ionic Ear</td>\n",
       "      <td>2023-01-01</td>\n",
       "      <td>False</td>\n",
       "    </tr>\n",
       "  </tbody>\n",
       "</table>\n",
       "</div>"
      ],
      "text/plain": [
       "    deal                             description  episode   category  \\\n",
       "0  False  Bluetooth device implant for your ear.        1  Novelties   \n",
       "\n",
       "    entrepreneurs      location website  askedFor  exchangeForStake  \\\n",
       "0  Darrin Johnson  St. Paul, MN     NaN   1000000                15   \n",
       "\n",
       "   valuation  season            shark1           shark2         shark3  \\\n",
       "0    6666667       1  Barbara Corcoran  Robert Herjavec  Kevin O'Leary   \n",
       "\n",
       "         shark4            shark5      title episode-season  \\\n",
       "0  Daymond John  Kevin Harrington  Ionic Ear     2023-01-01   \n",
       "\n",
       "   Multiple Entreprenuers  \n",
       "0                   False  "
      ]
     },
     "execution_count": 5,
     "metadata": {},
     "output_type": "execute_result"
    }
   ],
   "source": [
    "df.loc[df['website'].isna(), :].head(1)         "
   ]
  },
  {
   "cell_type": "code",
   "execution_count": 6,
   "metadata": {},
   "outputs": [
    {
     "data": {
      "text/html": [
       "<div>\n",
       "<style scoped>\n",
       "    .dataframe tbody tr th:only-of-type {\n",
       "        vertical-align: middle;\n",
       "    }\n",
       "\n",
       "    .dataframe tbody tr th {\n",
       "        vertical-align: top;\n",
       "    }\n",
       "\n",
       "    .dataframe thead th {\n",
       "        text-align: right;\n",
       "    }\n",
       "</style>\n",
       "<table border=\"1\" class=\"dataframe\">\n",
       "  <thead>\n",
       "    <tr style=\"text-align: right;\">\n",
       "      <th></th>\n",
       "      <th>deal</th>\n",
       "      <th>description</th>\n",
       "      <th>episode</th>\n",
       "      <th>category</th>\n",
       "      <th>entrepreneurs</th>\n",
       "      <th>location</th>\n",
       "      <th>website</th>\n",
       "      <th>askedFor</th>\n",
       "      <th>exchangeForStake</th>\n",
       "      <th>valuation</th>\n",
       "      <th>season</th>\n",
       "      <th>shark1</th>\n",
       "      <th>shark2</th>\n",
       "      <th>shark3</th>\n",
       "      <th>shark4</th>\n",
       "      <th>shark5</th>\n",
       "      <th>title</th>\n",
       "      <th>episode-season</th>\n",
       "      <th>Multiple Entreprenuers</th>\n",
       "    </tr>\n",
       "  </thead>\n",
       "  <tbody>\n",
       "    <tr>\n",
       "      <th>185</th>\n",
       "      <td>True</td>\n",
       "      <td>Possibly the most successful product in Shark ...</td>\n",
       "      <td>7</td>\n",
       "      <td>Kitchen Tools</td>\n",
       "      <td>NaN</td>\n",
       "      <td>Folcroft, PA</td>\n",
       "      <td>http://scrubdaddy.com</td>\n",
       "      <td>100000</td>\n",
       "      <td>10</td>\n",
       "      <td>1000000</td>\n",
       "      <td>4</td>\n",
       "      <td>Lori Greiner</td>\n",
       "      <td>Robert Herjavec</td>\n",
       "      <td>Kevin O'Leary</td>\n",
       "      <td>Daymond John</td>\n",
       "      <td>Mark Cuban</td>\n",
       "      <td>Scrub Daddy</td>\n",
       "      <td>2023-07-04</td>\n",
       "      <td>False</td>\n",
       "    </tr>\n",
       "  </tbody>\n",
       "</table>\n",
       "</div>"
      ],
      "text/plain": [
       "     deal                                        description  episode  \\\n",
       "185  True  Possibly the most successful product in Shark ...        7   \n",
       "\n",
       "          category entrepreneurs      location                website  \\\n",
       "185  Kitchen Tools           NaN  Folcroft, PA  http://scrubdaddy.com   \n",
       "\n",
       "     askedFor  exchangeForStake  valuation  season        shark1  \\\n",
       "185    100000                10    1000000       4  Lori Greiner   \n",
       "\n",
       "              shark2         shark3        shark4      shark5        title  \\\n",
       "185  Robert Herjavec  Kevin O'Leary  Daymond John  Mark Cuban  Scrub Daddy   \n",
       "\n",
       "    episode-season  Multiple Entreprenuers  \n",
       "185     2023-07-04                   False  "
      ]
     },
     "execution_count": 6,
     "metadata": {},
     "output_type": "execute_result"
    }
   ],
   "source": [
    "df.loc[df['entrepreneurs'].isna(), :].head(1)   "
   ]
  },
  {
   "cell_type": "code",
   "execution_count": 7,
   "metadata": {},
   "outputs": [
    {
     "data": {
      "text/plain": [
       "False    495\n",
       "Name: count, dtype: int64"
      ]
     },
     "execution_count": 7,
     "metadata": {},
     "output_type": "execute_result"
    }
   ],
   "source": [
    "df.duplicated().value_counts()"
   ]
  },
  {
   "cell_type": "code",
   "execution_count": 8,
   "metadata": {},
   "outputs": [
    {
     "data": {
      "text/plain": [
       "(495, 19)"
      ]
     },
     "execution_count": 8,
     "metadata": {},
     "output_type": "execute_result"
    }
   ],
   "source": [
    "df.shape"
   ]
  },
  {
   "cell_type": "code",
   "execution_count": 9,
   "metadata": {},
   "outputs": [
    {
     "name": "stdout",
     "output_type": "stream",
     "text": [
      "<class 'pandas.core.frame.DataFrame'>\n",
      "RangeIndex: 495 entries, 0 to 494\n",
      "Data columns (total 19 columns):\n",
      " #   Column                  Non-Null Count  Dtype         \n",
      "---  ------                  --------------  -----         \n",
      " 0   deal                    495 non-null    bool          \n",
      " 1   description             495 non-null    object        \n",
      " 2   episode                 495 non-null    int64         \n",
      " 3   category                495 non-null    object        \n",
      " 4   entrepreneurs           423 non-null    object        \n",
      " 5   location                495 non-null    object        \n",
      " 6   website                 457 non-null    object        \n",
      " 7   askedFor                495 non-null    int64         \n",
      " 8   exchangeForStake        495 non-null    int64         \n",
      " 9   valuation               495 non-null    int64         \n",
      " 10  season                  495 non-null    int64         \n",
      " 11  shark1                  495 non-null    object        \n",
      " 12  shark2                  495 non-null    object        \n",
      " 13  shark3                  495 non-null    object        \n",
      " 14  shark4                  495 non-null    object        \n",
      " 15  shark5                  495 non-null    object        \n",
      " 16  title                   495 non-null    object        \n",
      " 17  episode-season          495 non-null    datetime64[ns]\n",
      " 18  Multiple Entreprenuers  495 non-null    bool          \n",
      "dtypes: bool(2), datetime64[ns](1), int64(5), object(11)\n",
      "memory usage: 66.8+ KB\n"
     ]
    }
   ],
   "source": [
    "df.info()"
   ]
  },
  {
   "cell_type": "code",
   "execution_count": 10,
   "metadata": {},
   "outputs": [
    {
     "data": {
      "text/html": [
       "<div>\n",
       "<style scoped>\n",
       "    .dataframe tbody tr th:only-of-type {\n",
       "        vertical-align: middle;\n",
       "    }\n",
       "\n",
       "    .dataframe tbody tr th {\n",
       "        vertical-align: top;\n",
       "    }\n",
       "\n",
       "    .dataframe thead th {\n",
       "        text-align: right;\n",
       "    }\n",
       "</style>\n",
       "<table border=\"1\" class=\"dataframe\">\n",
       "  <thead>\n",
       "    <tr style=\"text-align: right;\">\n",
       "      <th></th>\n",
       "      <th>episode</th>\n",
       "      <th>season</th>\n",
       "      <th>episode-season</th>\n",
       "    </tr>\n",
       "  </thead>\n",
       "  <tbody>\n",
       "    <tr>\n",
       "      <th>0</th>\n",
       "      <td>1</td>\n",
       "      <td>1</td>\n",
       "      <td>2023-01-01</td>\n",
       "    </tr>\n",
       "    <tr>\n",
       "      <th>1</th>\n",
       "      <td>1</td>\n",
       "      <td>1</td>\n",
       "      <td>2023-01-01</td>\n",
       "    </tr>\n",
       "    <tr>\n",
       "      <th>2</th>\n",
       "      <td>1</td>\n",
       "      <td>1</td>\n",
       "      <td>2023-01-01</td>\n",
       "    </tr>\n",
       "    <tr>\n",
       "      <th>3</th>\n",
       "      <td>1</td>\n",
       "      <td>1</td>\n",
       "      <td>2023-01-01</td>\n",
       "    </tr>\n",
       "    <tr>\n",
       "      <th>4</th>\n",
       "      <td>1</td>\n",
       "      <td>1</td>\n",
       "      <td>2023-01-01</td>\n",
       "    </tr>\n",
       "    <tr>\n",
       "      <th>...</th>\n",
       "      <td>...</td>\n",
       "      <td>...</td>\n",
       "      <td>...</td>\n",
       "    </tr>\n",
       "    <tr>\n",
       "      <th>490</th>\n",
       "      <td>28</td>\n",
       "      <td>6</td>\n",
       "      <td>2028-06-01</td>\n",
       "    </tr>\n",
       "    <tr>\n",
       "      <th>491</th>\n",
       "      <td>29</td>\n",
       "      <td>6</td>\n",
       "      <td>2029-06-01</td>\n",
       "    </tr>\n",
       "    <tr>\n",
       "      <th>492</th>\n",
       "      <td>29</td>\n",
       "      <td>6</td>\n",
       "      <td>2029-06-01</td>\n",
       "    </tr>\n",
       "    <tr>\n",
       "      <th>493</th>\n",
       "      <td>29</td>\n",
       "      <td>6</td>\n",
       "      <td>2029-06-01</td>\n",
       "    </tr>\n",
       "    <tr>\n",
       "      <th>494</th>\n",
       "      <td>29</td>\n",
       "      <td>6</td>\n",
       "      <td>2029-06-01</td>\n",
       "    </tr>\n",
       "  </tbody>\n",
       "</table>\n",
       "<p>495 rows × 3 columns</p>\n",
       "</div>"
      ],
      "text/plain": [
       "     episode  season episode-season\n",
       "0          1       1     2023-01-01\n",
       "1          1       1     2023-01-01\n",
       "2          1       1     2023-01-01\n",
       "3          1       1     2023-01-01\n",
       "4          1       1     2023-01-01\n",
       "..       ...     ...            ...\n",
       "490       28       6     2028-06-01\n",
       "491       29       6     2029-06-01\n",
       "492       29       6     2029-06-01\n",
       "493       29       6     2029-06-01\n",
       "494       29       6     2029-06-01\n",
       "\n",
       "[495 rows x 3 columns]"
      ]
     },
     "execution_count": 10,
     "metadata": {},
     "output_type": "execute_result"
    }
   ],
   "source": [
    "df[['episode', 'season', 'episode-season']]"
   ]
  },
  {
   "cell_type": "code",
   "execution_count": 11,
   "metadata": {},
   "outputs": [
    {
     "data": {
      "text/plain": [
       "episode-season\n",
       "2023-04-01    9\n",
       "2023-05-01    9\n",
       "2023-06-01    9\n",
       "2023-01-01    5\n",
       "2023-02-01    5\n",
       "             ..\n",
       "2023-01-04    4\n",
       "2015-03-01    4\n",
       "2014-03-01    4\n",
       "2029-06-01    4\n",
       "2023-08-04    3\n",
       "Name: count, Length: 119, dtype: int64"
      ]
     },
     "execution_count": 11,
     "metadata": {},
     "output_type": "execute_result"
    }
   ],
   "source": [
    "df['episode-season'].value_counts()"
   ]
  },
  {
   "cell_type": "code",
   "execution_count": 12,
   "metadata": {},
   "outputs": [
    {
     "data": {
      "text/plain": [
       "deal                                bool\n",
       "description                       object\n",
       "episode                            int64\n",
       "category                          object\n",
       "entrepreneurs                     object\n",
       "location                          object\n",
       "website                           object\n",
       "askedFor                           int64\n",
       "exchangeForStake                   int64\n",
       "valuation                          int64\n",
       "season                             int64\n",
       "shark1                            object\n",
       "shark2                            object\n",
       "shark3                            object\n",
       "shark4                            object\n",
       "shark5                            object\n",
       "title                             object\n",
       "episode-season            datetime64[ns]\n",
       "Multiple Entreprenuers              bool\n",
       "dtype: object"
      ]
     },
     "execution_count": 12,
     "metadata": {},
     "output_type": "execute_result"
    }
   ],
   "source": [
    "df.dtypes"
   ]
  },
  {
   "cell_type": "code",
   "execution_count": 13,
   "metadata": {},
   "outputs": [
    {
     "name": "stdout",
     "output_type": "stream",
     "text": [
      "deal: 0\n",
      "description: {'standard_nulls': 0, 'empty_strings': 0, 'specific_values': 0, 'whitespace_only': 0}\n",
      "episode: 0\n",
      "category: {'standard_nulls': 0, 'empty_strings': 0, 'specific_values': 0, 'whitespace_only': 0}\n",
      "entrepreneurs: {'standard_nulls': 72, 'empty_strings': 0, 'specific_values': 0, 'whitespace_only': 0}\n",
      "location: {'standard_nulls': 0, 'empty_strings': 0, 'specific_values': 0, 'whitespace_only': 0}\n",
      "website: {'standard_nulls': 38, 'empty_strings': 0, 'specific_values': 0, 'whitespace_only': 0}\n",
      "askedFor: 0\n",
      "exchangeForStake: 0\n",
      "valuation: 0\n",
      "season: 0\n",
      "shark1: {'standard_nulls': 0, 'empty_strings': 0, 'specific_values': 0, 'whitespace_only': 0}\n",
      "shark2: {'standard_nulls': 0, 'empty_strings': 0, 'specific_values': 0, 'whitespace_only': 0}\n",
      "shark3: {'standard_nulls': 0, 'empty_strings': 0, 'specific_values': 0, 'whitespace_only': 0}\n",
      "shark4: {'standard_nulls': 0, 'empty_strings': 0, 'specific_values': 0, 'whitespace_only': 0}\n",
      "shark5: {'standard_nulls': 0, 'empty_strings': 0, 'specific_values': 0, 'whitespace_only': 0}\n",
      "title: {'standard_nulls': 0, 'empty_strings': 0, 'specific_values': 0, 'whitespace_only': 0}\n",
      "episode-season: {'invalid_dates': 0}\n",
      "Multiple Entreprenuers: 0\n"
     ]
    }
   ],
   "source": [
    "\n"
   ]
  },
  {
   "cell_type": "code",
   "execution_count": 14,
   "metadata": {},
   "outputs": [
    {
     "data": {
      "text/plain": [
       "Index(['deal', 'description', 'episode', 'category', 'entrepreneurs',\n",
       "       'location', 'website', 'askedFor', 'exchangeForStake', 'valuation',\n",
       "       'season', 'shark1', 'shark2', 'shark3', 'shark4', 'shark5', 'title',\n",
       "       'episode-season', 'Multiple Entreprenuers'],\n",
       "      dtype='object')"
      ]
     },
     "execution_count": 14,
     "metadata": {},
     "output_type": "execute_result"
    }
   ],
   "source": [
    "df.columns"
   ]
  },
  {
   "cell_type": "code",
   "execution_count": 25,
   "metadata": {},
   "outputs": [
    {
     "data": {
      "image/png": "[encoded data removed]",
      "text/plain": [
       "<Figure size 1000x600 with 6 Axes>"
      ]
     },
     "metadata": {},
     "output_type": "display_data"
    }
   ],
   "source": [
    "# Lets visualize our dataset - TRY THIS AGAIN AFTER CLEANING. \n",
    "df.hist(bins=5, figsize=(10,6))\n",
    "plt.tight_layout()\n",
    "plt.show()"
   ]
  },
  {
   "cell_type": "code",
   "execution_count": null,
   "metadata": {},
   "outputs": [],
   "source": []
  }
 ],
 "metadata": {
  "kernelspec": {
   "display_name": "base",
   "language": "python",
   "name": "python3"
  },
  "language_info": {
   "codemirror_mode": {
    "name": "ipython",
    "version": 3
   },
   "file_extension": ".py",
   "mimetype": "text/x-python",
   "name": "python",
   "nbconvert_exporter": "python",
   "pygments_lexer": "ipython3",
   "version": "3.11.7"
  }
 },
 "nbformat": 4,
 "nbformat_minor": 2
}
