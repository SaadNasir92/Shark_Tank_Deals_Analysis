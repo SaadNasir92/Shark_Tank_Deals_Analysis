{
 "cells": [
  {
   "cell_type": "markdown",
   "metadata": {},
   "source": [
    "### Notes for cleaning:\n",
    "- False investments to clean:\n",
    "    - Per http://www.sharkalytics.com/company/classroom-jams - Mark Cuban was not present, caught 50000 investment under Mark name that is not true. Need to remove. - COMPLETE\n",
    "    - Per http://www.sharkalytics.com/company/the-beebo - Barbara investment was actually Lori, Barabara wasn't present, pulled up show to confirm. - COMPLETE\n",
    "    - Per http://www.sharkalytics.com/company/shark-wheel - Robert investment was actually Kevin. - COMPLETE\n",
    "    - Per http://www.sharkalytics.com/company/pursecase - Daymon was not present, Lori actually made this deal. - COMPLETE\n",
    "\n",
    "- Analysis of main sharks only, guest data/columns dropped."
   ]
  },
  {
   "cell_type": "markdown",
   "metadata": {},
   "source": []
  },
  {
   "cell_type": "code",
   "execution_count": 1,
   "metadata": {},
   "outputs": [],
   "source": [
    "# Imports\n",
    "import pandas as pd\n",
    "import matplotlib.pyplot as plt\n",
    "from src.util import check_nulls\n"
   ]
  },
  {
   "cell_type": "code",
   "execution_count": 2,
   "metadata": {},
   "outputs": [],
   "source": [
    "df = pd.read_csv('datasets/Shark Tank US dataset.csv')"
   ]
  },
  {
   "cell_type": "code",
   "execution_count": 3,
   "metadata": {},
   "outputs": [],
   "source": [
    "df.columns = df.columns.str.lower().str.replace(' ', '_')"
   ]
  },
  {
   "cell_type": "code",
   "execution_count": 4,
   "metadata": {},
   "outputs": [
    {
     "data": {
      "text/plain": [
       "Index(['season_number', 'startup_name', 'episode_number', 'pitch_number',\n",
       "       'season_start', 'season_end', 'original_air_date', 'industry',\n",
       "       'business_description', 'company_website', 'pitchers_gender',\n",
       "       'pitchers_average_age', 'pitchers_city', 'pitchers_state',\n",
       "       'entrepreneur_names', 'multiple_entrepreneurs', 'us_viewership',\n",
       "       'original_ask_amount', 'original_offered_equity', 'valuation_requested',\n",
       "       'got_deal', 'total_deal_amount', 'total_deal_equity', 'deal_valuation',\n",
       "       'number_of_sharks_in_deal', 'investment_amount_per_shark',\n",
       "       'equity_per_shark', 'royalty_deal', 'advisory_shares_equity', 'loan',\n",
       "       'deal_has_conditions', 'barbara_corcoran_investment_amount',\n",
       "       'barbara_corcoran_investment_equity', 'mark_cuban_investment_amount',\n",
       "       'mark_cuban_investment_equity', 'lori_greiner_investment_amount',\n",
       "       'lori_greiner_investment_equity', 'robert_herjavec_investment_amount',\n",
       "       'robert_herjavec_investment_equity', 'daymond_john_investment_amount',\n",
       "       'daymond_john_investment_equity', 'kevin_o_leary_investment_amount',\n",
       "       'kevin_o_leary_investment_equity', 'guest_investment_amount',\n",
       "       'guest_investment_equity', 'guest_name', 'barbara_corcoran_present',\n",
       "       'mark_cuban_present', 'lori_greiner_present', 'robert_herjavec_present',\n",
       "       'daymond_john_present', 'kevin_o_leary_present', 'guest_present'],\n",
       "      dtype='object')"
      ]
     },
     "execution_count": 4,
     "metadata": {},
     "output_type": "execute_result"
    }
   ],
   "source": [
    "df.columns"
   ]
  },
  {
   "cell_type": "code",
   "execution_count": 5,
   "metadata": {},
   "outputs": [
    {
     "data": {
      "text/plain": [
       "{'season_number': 0,\n",
       " 'startup_name': {'standard_nulls': 0,\n",
       "  'empty_strings': 0,\n",
       "  'specific_values': 0,\n",
       "  'whitespace_only': 0},\n",
       " 'episode_number': 0,\n",
       " 'pitch_number': 0,\n",
       " 'season_start': {'standard_nulls': 0,\n",
       "  'empty_strings': 0,\n",
       "  'specific_values': 0,\n",
       "  'whitespace_only': 0},\n",
       " 'season_end': {'standard_nulls': 0,\n",
       "  'empty_strings': 0,\n",
       "  'specific_values': 0,\n",
       "  'whitespace_only': 0},\n",
       " 'original_air_date': {'standard_nulls': 0,\n",
       "  'empty_strings': 0,\n",
       "  'specific_values': 0,\n",
       "  'whitespace_only': 0},\n",
       " 'industry': {'standard_nulls': 0,\n",
       "  'empty_strings': 0,\n",
       "  'specific_values': 0,\n",
       "  'whitespace_only': 0},\n",
       " 'business_description': {'standard_nulls': 0,\n",
       "  'empty_strings': 0,\n",
       "  'specific_values': 0,\n",
       "  'whitespace_only': 0},\n",
       " 'company_website': {'standard_nulls': 758,\n",
       "  'empty_strings': 0,\n",
       "  'specific_values': 0,\n",
       "  'whitespace_only': 0},\n",
       " 'pitchers_gender': {'standard_nulls': 7,\n",
       "  'empty_strings': 0,\n",
       "  'specific_values': 0,\n",
       "  'whitespace_only': 0},\n",
       " 'pitchers_average_age': {'standard_nulls': 936,\n",
       "  'empty_strings': 0,\n",
       "  'specific_values': 0,\n",
       "  'whitespace_only': 0},\n",
       " 'pitchers_city': {'standard_nulls': 830,\n",
       "  'empty_strings': 0,\n",
       "  'specific_values': 0,\n",
       "  'whitespace_only': 0},\n",
       " 'pitchers_state': {'standard_nulls': 565,\n",
       "  'empty_strings': 0,\n",
       "  'specific_values': 0,\n",
       "  'whitespace_only': 0},\n",
       " 'entrepreneur_names': {'standard_nulls': 495,\n",
       "  'empty_strings': 0,\n",
       "  'specific_values': 0,\n",
       "  'whitespace_only': 0},\n",
       " 'multiple_entrepreneurs': 427,\n",
       " 'us_viewership': 0,\n",
       " 'original_ask_amount': 0,\n",
       " 'original_offered_equity': 0,\n",
       " 'valuation_requested': 0,\n",
       " 'got_deal': 0,\n",
       " 'total_deal_amount': 537,\n",
       " 'total_deal_equity': 537,\n",
       " 'deal_valuation': 537,\n",
       " 'number_of_sharks_in_deal': 537,\n",
       " 'investment_amount_per_shark': 537,\n",
       " 'equity_per_shark': 537,\n",
       " 'royalty_deal': 1281,\n",
       " 'advisory_shares_equity': 1358,\n",
       " 'loan': 1304,\n",
       " 'deal_has_conditions': {'standard_nulls': 1359,\n",
       "  'empty_strings': 0,\n",
       "  'specific_values': 0,\n",
       "  'whitespace_only': 0},\n",
       " 'barbara_corcoran_investment_amount': 1231,\n",
       " 'barbara_corcoran_investment_equity': 1231,\n",
       " 'mark_cuban_investment_amount': 1112,\n",
       " 'mark_cuban_investment_equity': 1112,\n",
       " 'lori_greiner_investment_amount': 1144,\n",
       " 'lori_greiner_investment_equity': 1144,\n",
       " 'robert_herjavec_investment_amount': 1234,\n",
       " 'robert_herjavec_investment_equity': 1234,\n",
       " 'daymond_john_investment_amount': 1244,\n",
       " 'daymond_john_investment_equity': 1244,\n",
       " 'kevin_o_leary_investment_amount': 1234,\n",
       " 'kevin_o_leary_investment_equity': 1234,\n",
       " 'guest_investment_amount': 1241,\n",
       " 'guest_investment_equity': 1241,\n",
       " 'guest_name': {'standard_nulls': 1241,\n",
       "  'empty_strings': 0,\n",
       "  'specific_values': 0,\n",
       "  'whitespace_only': 0},\n",
       " 'barbara_corcoran_present': 419,\n",
       " 'mark_cuban_present': 373,\n",
       " 'lori_greiner_present': 373,\n",
       " 'robert_herjavec_present': 425,\n",
       " 'daymond_john_present': 423,\n",
       " 'kevin_o_leary_present': 376,\n",
       " 'guest_present': 1310}"
      ]
     },
     "execution_count": 5,
     "metadata": {},
     "output_type": "execute_result"
    }
   ],
   "source": [
    "check_nulls(df)"
   ]
  },
  {
   "cell_type": "code",
   "execution_count": 6,
   "metadata": {},
   "outputs": [
    {
     "data": {
      "text/plain": [
       "[('barbara_corcoran_present', 'barbara_corcoran_investment_amount'),\n",
       " ('mark_cuban_present', 'mark_cuban_investment_amount'),\n",
       " ('lori_greiner_present', 'lori_greiner_investment_amount'),\n",
       " ('robert_herjavec_present', 'robert_herjavec_investment_amount'),\n",
       " ('daymond_john_present', 'daymond_john_investment_amount'),\n",
       " ('kevin_o_leary_present', 'kevin_o_leary_investment_amount')]"
      ]
     },
     "execution_count": 6,
     "metadata": {},
     "output_type": "execute_result"
    }
   ],
   "source": [
    "sharks = [x for x in df.columns if 'present' in x]\n",
    "investment_columns = [x for x in df.columns if 'investment_amount' in x]\n",
    "\n",
    "investment_columns.remove('investment_amount_per_shark')\n",
    "investment_columns.remove('guest_investment_amount')\n",
    "sharks.remove('guest_present')\n",
    "\n",
    "shark_investments = list(zip(sharks,investment_columns))\n",
    "shark_investments"
   ]
  },
  {
   "cell_type": "code",
   "execution_count": 7,
   "metadata": {},
   "outputs": [
    {
     "name": "stdout",
     "output_type": "stream",
     "text": [
      "100000.0 barbara_corcoran_present\n",
      "100000.0 barbara_corcoran_investment_amount\n",
      "50000.0 mark_cuban_present\n",
      "50000.0 mark_cuban_investment_amount\n",
      "nan lori_greiner_present\n",
      "0.0 lori_greiner_investment_amount\n",
      "75000.0 robert_herjavec_present\n",
      "75000.0 robert_herjavec_investment_amount\n",
      "55000.0 daymond_john_present\n",
      "55000.0 daymond_john_investment_amount\n",
      "nan kevin_o_leary_present\n",
      "0.0 kevin_o_leary_investment_amount\n"
     ]
    }
   ],
   "source": [
    "# Before Fix\n",
    "for x in shark_investments:\n",
    "    print(df.loc[df['got_deal'] == True].groupby(x[0])[x[1]].mean().values[0], x[0])\n",
    "    print(df.loc[df['got_deal'] == True].groupby(x[0])[x[1]].sum().values[0], x[1])"
   ]
  },
  {
   "cell_type": "code",
   "execution_count": 8,
   "metadata": {},
   "outputs": [],
   "source": [
    "# REMOVED ROW 6 MARK CUBAN FALSE INVESTMENT of 50000\n",
    "df.loc[(df['got_deal'] == True)&(df['mark_cuban_investment_amount'] == 50000)&(df['mark_cuban_present'] == False)][investment_columns]\n",
    "df.loc[6, 'mark_cuban_investment_amount'] = 0"
   ]
  },
  {
   "cell_type": "code",
   "execution_count": 9,
   "metadata": {},
   "outputs": [],
   "source": [
    "# MOVED ROW 495 BARBARA INVESTMENT TO LORI\n",
    "df.loc[(df['got_deal'] == True)&(df['barbara_corcoran_investment_amount'] == 100000)&(df['barbara_corcoran_present'] == False)][investment_columns]\n",
    "df.loc[495, 'barbara_corcoran_investment_amount'] = 0\n",
    "df.loc[495, 'lori_greiner_investment_amount'] = 100000\n",
    "df.loc[495, 'barbara_corcoran_investment_equity'] = 0\n",
    "df.loc[495, 'lori_greiner_investment_equity'] = 15.0\n"
   ]
  },
  {
   "cell_type": "code",
   "execution_count": 10,
   "metadata": {},
   "outputs": [],
   "source": [
    "# MOVED ROW 491 ROBERT INVESTMENT TO KEVIN\n",
    "df.loc[(df['got_deal'] == True)&(df['robert_herjavec_investment_amount'] == 75000)&(df['robert_herjavec_present'] == False)][investment_columns]\n",
    "df.loc[491, 'robert_herjavec_investment_amount'] = 0\n",
    "df.loc[491, 'kevin_o_leary_investment_amount'] = 75000\n",
    "df.loc[491, 'robert_herjavec_investment_equity'] = 0\n",
    "df.loc[491, 'kevin_o_leary_investment_equity'] = 2.5\n",
    "\n"
   ]
  },
  {
   "cell_type": "code",
   "execution_count": 11,
   "metadata": {},
   "outputs": [],
   "source": [
    "# MOVED ROW 301 DAYMOND INVESTMENT TO LORI\n",
    "df.loc[(df['got_deal'] == True)&(df['daymond_john_investment_amount'] == 55000)&(df['daymond_john_present'] == False)][investment_columns]\n",
    "df.loc[301, 'daymond_john_investment_amount'] = 0\n",
    "df.loc[301, 'lori_greiner_investment_amount'] = 55000\n",
    "df.loc[301, 'daymond_john_investment_equity'] = 0\n",
    "df.loc[301, 'lori_greiner_investment_equity'] = 15.0\n",
    "\n",
    "\n"
   ]
  },
  {
   "cell_type": "code",
   "execution_count": 12,
   "metadata": {},
   "outputs": [
    {
     "name": "stdout",
     "output_type": "stream",
     "text": [
      "0.0 barbara_corcoran_present\n",
      "0.0 barbara_corcoran_investment_amount\n",
      "0.0 mark_cuban_present\n",
      "0.0 mark_cuban_investment_amount\n",
      "nan lori_greiner_present\n",
      "0.0 lori_greiner_investment_amount\n",
      "0.0 robert_herjavec_present\n",
      "0.0 robert_herjavec_investment_amount\n",
      "0.0 daymond_john_present\n",
      "0.0 daymond_john_investment_amount\n",
      "nan kevin_o_leary_present\n",
      "0.0 kevin_o_leary_investment_amount\n"
     ]
    }
   ],
   "source": [
    "# AFTER FIX\n",
    "for x in shark_investments:\n",
    "    print(df.loc[df['got_deal'] == True].groupby(x[0])[x[1]].mean().values[0], x[0])\n",
    "    print(df.loc[df['got_deal'] == True].groupby(x[0])[x[1]].sum().values[0], x[1])\n",
    "    "
   ]
  },
  {
   "cell_type": "code",
   "execution_count": 13,
   "metadata": {},
   "outputs": [
    {
     "data": {
      "text/plain": [
       "{'season_number': 0,\n",
       " 'startup_name': {'standard_nulls': 0,\n",
       "  'empty_strings': 0,\n",
       "  'specific_values': 0,\n",
       "  'whitespace_only': 0},\n",
       " 'episode_number': 0,\n",
       " 'pitch_number': 0,\n",
       " 'season_start': {'standard_nulls': 0,\n",
       "  'empty_strings': 0,\n",
       "  'specific_values': 0,\n",
       "  'whitespace_only': 0},\n",
       " 'season_end': {'standard_nulls': 0,\n",
       "  'empty_strings': 0,\n",
       "  'specific_values': 0,\n",
       "  'whitespace_only': 0},\n",
       " 'original_air_date': {'standard_nulls': 0,\n",
       "  'empty_strings': 0,\n",
       "  'specific_values': 0,\n",
       "  'whitespace_only': 0},\n",
       " 'industry': {'standard_nulls': 0,\n",
       "  'empty_strings': 0,\n",
       "  'specific_values': 0,\n",
       "  'whitespace_only': 0},\n",
       " 'business_description': {'standard_nulls': 0,\n",
       "  'empty_strings': 0,\n",
       "  'specific_values': 0,\n",
       "  'whitespace_only': 0},\n",
       " 'company_website': {'standard_nulls': 758,\n",
       "  'empty_strings': 0,\n",
       "  'specific_values': 0,\n",
       "  'whitespace_only': 0},\n",
       " 'pitchers_gender': {'standard_nulls': 7,\n",
       "  'empty_strings': 0,\n",
       "  'specific_values': 0,\n",
       "  'whitespace_only': 0},\n",
       " 'pitchers_average_age': {'standard_nulls': 936,\n",
       "  'empty_strings': 0,\n",
       "  'specific_values': 0,\n",
       "  'whitespace_only': 0},\n",
       " 'pitchers_city': {'standard_nulls': 830,\n",
       "  'empty_strings': 0,\n",
       "  'specific_values': 0,\n",
       "  'whitespace_only': 0},\n",
       " 'pitchers_state': {'standard_nulls': 565,\n",
       "  'empty_strings': 0,\n",
       "  'specific_values': 0,\n",
       "  'whitespace_only': 0},\n",
       " 'entrepreneur_names': {'standard_nulls': 495,\n",
       "  'empty_strings': 0,\n",
       "  'specific_values': 0,\n",
       "  'whitespace_only': 0},\n",
       " 'multiple_entrepreneurs': 427,\n",
       " 'us_viewership': 0,\n",
       " 'original_ask_amount': 0,\n",
       " 'original_offered_equity': 0,\n",
       " 'valuation_requested': 0,\n",
       " 'got_deal': 0,\n",
       " 'total_deal_amount': 537,\n",
       " 'total_deal_equity': 537,\n",
       " 'deal_valuation': 537,\n",
       " 'number_of_sharks_in_deal': 537,\n",
       " 'investment_amount_per_shark': 537,\n",
       " 'equity_per_shark': 537,\n",
       " 'royalty_deal': 1281,\n",
       " 'advisory_shares_equity': 1358,\n",
       " 'loan': 1304,\n",
       " 'deal_has_conditions': {'standard_nulls': 1359,\n",
       "  'empty_strings': 0,\n",
       "  'specific_values': 0,\n",
       "  'whitespace_only': 0},\n",
       " 'barbara_corcoran_investment_amount': 1231,\n",
       " 'barbara_corcoran_investment_equity': 1231,\n",
       " 'mark_cuban_investment_amount': 1112,\n",
       " 'mark_cuban_investment_equity': 1112,\n",
       " 'lori_greiner_investment_amount': 1142,\n",
       " 'lori_greiner_investment_equity': 1142,\n",
       " 'robert_herjavec_investment_amount': 1234,\n",
       " 'robert_herjavec_investment_equity': 1234,\n",
       " 'daymond_john_investment_amount': 1244,\n",
       " 'daymond_john_investment_equity': 1244,\n",
       " 'kevin_o_leary_investment_amount': 1233,\n",
       " 'kevin_o_leary_investment_equity': 1233,\n",
       " 'guest_investment_amount': 1241,\n",
       " 'guest_investment_equity': 1241,\n",
       " 'guest_name': {'standard_nulls': 1241,\n",
       "  'empty_strings': 0,\n",
       "  'specific_values': 0,\n",
       "  'whitespace_only': 0},\n",
       " 'barbara_corcoran_present': 419,\n",
       " 'mark_cuban_present': 373,\n",
       " 'lori_greiner_present': 373,\n",
       " 'robert_herjavec_present': 425,\n",
       " 'daymond_john_present': 423,\n",
       " 'kevin_o_leary_present': 376,\n",
       " 'guest_present': 1310}"
      ]
     },
     "execution_count": 13,
     "metadata": {},
     "output_type": "execute_result"
    }
   ],
   "source": [
    "check_nulls(df)"
   ]
  },
  {
   "cell_type": "code",
   "execution_count": 14,
   "metadata": {},
   "outputs": [
    {
     "data": {
      "text/plain": [
       "['guest_investment_amount',\n",
       " 'guest_investment_equity',\n",
       " 'guest_name',\n",
       " 'guest_present']"
      ]
     },
     "execution_count": 14,
     "metadata": {},
     "output_type": "execute_result"
    }
   ],
   "source": [
    "guest_columns = [x for x in df.columns if 'guest' in x]\n",
    "guest_columns"
   ]
  },
  {
   "cell_type": "code",
   "execution_count": 15,
   "metadata": {},
   "outputs": [],
   "source": [
    "df.drop(guest_columns, axis=1, inplace=True)"
   ]
  },
  {
   "cell_type": "code",
   "execution_count": 17,
   "metadata": {},
   "outputs": [
    {
     "data": {
      "text/plain": [
       "[]"
      ]
     },
     "execution_count": 17,
     "metadata": {},
     "output_type": "execute_result"
    }
   ],
   "source": [
    "guest_columns = [x for x in df.columns if 'guest' in x]\n",
    "guest_columns"
   ]
  },
  {
   "cell_type": "code",
   "execution_count": null,
   "metadata": {},
   "outputs": [],
   "source": []
  }
 ],
 "metadata": {
  "kernelspec": {
   "display_name": "base",
   "language": "python",
   "name": "python3"
  },
  "language_info": {
   "codemirror_mode": {
    "name": "ipython",
    "version": 3
   },
   "file_extension": ".py",
   "mimetype": "text/x-python",
   "name": "python",
   "nbconvert_exporter": "python",
   "pygments_lexer": "ipython3",
   "version": "3.11.7"
  }
 },
 "nbformat": 4,
 "nbformat_minor": 2
}
