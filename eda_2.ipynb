{
 "cells": [
  {
   "cell_type": "markdown",
   "metadata": {},
   "source": [
    "### Notes for cleaning:\n",
    "- False investments to clean:\n",
    "    - Per http://www.sharkalytics.com/company/classroom-jams - Mark Cuban was not present, caught 50000 investment under Mark name that is not true. Need to remove. - COMPLETE\n",
    "    - Per http://www.sharkalytics.com/company/the-beebo - Barbara investment was actually Lori, Barabara wasn't present, pulled up show to confirm. - COMPLETE\n",
    "    - Per http://www.sharkalytics.com/company/shark-wheel - Robert investment was actually Kevin. - COMPLETE\n",
    "    - Per http://www.sharkalytics.com/company/pursecase - Daymon was not present, Lori actually made this deal. - COMPLETE\n",
    "\n",
    "- Analysis of main sharks only, guest data/columns dropped."
   ]
  },
  {
   "cell_type": "markdown",
   "metadata": {},
   "source": []
  },
  {
   "cell_type": "code",
   "execution_count": 41,
   "metadata": {},
   "outputs": [],
   "source": [
    "# Imports\n",
    "import pandas as pd\n",
    "import matplotlib.pyplot as plt\n",
    "from utils.util import check_nulls\n",
    "from utils.data_load import make_id_column, merge_dataframes\n"
   ]
  },
  {
   "cell_type": "code",
   "execution_count": 2,
   "metadata": {},
   "outputs": [],
   "source": [
    "df = pd.read_csv('datasets/Shark Tank US dataset.csv')"
   ]
  },
  {
   "cell_type": "code",
   "execution_count": 3,
   "metadata": {},
   "outputs": [],
   "source": [
    "df.columns = df.columns.str.lower().str.replace(' ', '_')"
   ]
  },
  {
   "cell_type": "code",
   "execution_count": 4,
   "metadata": {},
   "outputs": [
    {
     "data": {
      "text/plain": [
       "pitch_number\n",
       "1       1\n",
       "906     1\n",
       "914     1\n",
       "913     1\n",
       "912     1\n",
       "       ..\n",
       "453     1\n",
       "452     1\n",
       "451     1\n",
       "450     1\n",
       "1361    1\n",
       "Name: count, Length: 1361, dtype: int64"
      ]
     },
     "execution_count": 4,
     "metadata": {},
     "output_type": "execute_result"
    }
   ],
   "source": [
    "df.pitch_number.value_counts()"
   ]
  },
  {
   "cell_type": "code",
   "execution_count": 5,
   "metadata": {},
   "outputs": [
    {
     "data": {
      "text/plain": [
       "Index(['season_number', 'startup_name', 'episode_number', 'pitch_number',\n",
       "       'season_start', 'season_end', 'original_air_date', 'industry',\n",
       "       'business_description', 'company_website', 'pitchers_gender',\n",
       "       'pitchers_average_age', 'pitchers_city', 'pitchers_state',\n",
       "       'entrepreneur_names', 'multiple_entrepreneurs', 'us_viewership',\n",
       "       'original_ask_amount', 'original_offered_equity', 'valuation_requested',\n",
       "       'got_deal', 'total_deal_amount', 'total_deal_equity', 'deal_valuation',\n",
       "       'number_of_sharks_in_deal', 'investment_amount_per_shark',\n",
       "       'equity_per_shark', 'royalty_deal', 'advisory_shares_equity', 'loan',\n",
       "       'deal_has_conditions', 'barbara_corcoran_investment_amount',\n",
       "       'barbara_corcoran_investment_equity', 'mark_cuban_investment_amount',\n",
       "       'mark_cuban_investment_equity', 'lori_greiner_investment_amount',\n",
       "       'lori_greiner_investment_equity', 'robert_herjavec_investment_amount',\n",
       "       'robert_herjavec_investment_equity', 'daymond_john_investment_amount',\n",
       "       'daymond_john_investment_equity', 'kevin_o_leary_investment_amount',\n",
       "       'kevin_o_leary_investment_equity', 'guest_investment_amount',\n",
       "       'guest_investment_equity', 'guest_name', 'barbara_corcoran_present',\n",
       "       'mark_cuban_present', 'lori_greiner_present', 'robert_herjavec_present',\n",
       "       'daymond_john_present', 'kevin_o_leary_present', 'guest_present'],\n",
       "      dtype='object')"
      ]
     },
     "execution_count": 5,
     "metadata": {},
     "output_type": "execute_result"
    }
   ],
   "source": [
    "df.columns"
   ]
  },
  {
   "cell_type": "code",
   "execution_count": 6,
   "metadata": {},
   "outputs": [
    {
     "data": {
      "text/plain": [
       "{'season_number': 0,\n",
       " 'startup_name': {'standard_nulls': 0,\n",
       "  'empty_strings': 0,\n",
       "  'specific_values': 0,\n",
       "  'whitespace_only': 0},\n",
       " 'episode_number': 0,\n",
       " 'pitch_number': 0,\n",
       " 'season_start': {'standard_nulls': 0,\n",
       "  'empty_strings': 0,\n",
       "  'specific_values': 0,\n",
       "  'whitespace_only': 0},\n",
       " 'season_end': {'standard_nulls': 0,\n",
       "  'empty_strings': 0,\n",
       "  'specific_values': 0,\n",
       "  'whitespace_only': 0},\n",
       " 'original_air_date': {'standard_nulls': 0,\n",
       "  'empty_strings': 0,\n",
       "  'specific_values': 0,\n",
       "  'whitespace_only': 0},\n",
       " 'industry': {'standard_nulls': 0,\n",
       "  'empty_strings': 0,\n",
       "  'specific_values': 0,\n",
       "  'whitespace_only': 0},\n",
       " 'business_description': {'standard_nulls': 0,\n",
       "  'empty_strings': 0,\n",
       "  'specific_values': 0,\n",
       "  'whitespace_only': 0},\n",
       " 'company_website': {'standard_nulls': 758,\n",
       "  'empty_strings': 0,\n",
       "  'specific_values': 0,\n",
       "  'whitespace_only': 0},\n",
       " 'pitchers_gender': {'standard_nulls': 7,\n",
       "  'empty_strings': 0,\n",
       "  'specific_values': 0,\n",
       "  'whitespace_only': 0},\n",
       " 'pitchers_average_age': {'standard_nulls': 936,\n",
       "  'empty_strings': 0,\n",
       "  'specific_values': 0,\n",
       "  'whitespace_only': 0},\n",
       " 'pitchers_city': {'standard_nulls': 830,\n",
       "  'empty_strings': 0,\n",
       "  'specific_values': 0,\n",
       "  'whitespace_only': 0},\n",
       " 'pitchers_state': {'standard_nulls': 565,\n",
       "  'empty_strings': 0,\n",
       "  'specific_values': 0,\n",
       "  'whitespace_only': 0},\n",
       " 'entrepreneur_names': {'standard_nulls': 495,\n",
       "  'empty_strings': 0,\n",
       "  'specific_values': 0,\n",
       "  'whitespace_only': 0},\n",
       " 'multiple_entrepreneurs': 427,\n",
       " 'us_viewership': 0,\n",
       " 'original_ask_amount': 0,\n",
       " 'original_offered_equity': 0,\n",
       " 'valuation_requested': 0,\n",
       " 'got_deal': 0,\n",
       " 'total_deal_amount': 537,\n",
       " 'total_deal_equity': 537,\n",
       " 'deal_valuation': 537,\n",
       " 'number_of_sharks_in_deal': 537,\n",
       " 'investment_amount_per_shark': 537,\n",
       " 'equity_per_shark': 537,\n",
       " 'royalty_deal': 1281,\n",
       " 'advisory_shares_equity': 1358,\n",
       " 'loan': 1304,\n",
       " 'deal_has_conditions': {'standard_nulls': 1359,\n",
       "  'empty_strings': 0,\n",
       "  'specific_values': 0,\n",
       "  'whitespace_only': 0},\n",
       " 'barbara_corcoran_investment_amount': 1231,\n",
       " 'barbara_corcoran_investment_equity': 1231,\n",
       " 'mark_cuban_investment_amount': 1112,\n",
       " 'mark_cuban_investment_equity': 1112,\n",
       " 'lori_greiner_investment_amount': 1144,\n",
       " 'lori_greiner_investment_equity': 1144,\n",
       " 'robert_herjavec_investment_amount': 1234,\n",
       " 'robert_herjavec_investment_equity': 1234,\n",
       " 'daymond_john_investment_amount': 1244,\n",
       " 'daymond_john_investment_equity': 1244,\n",
       " 'kevin_o_leary_investment_amount': 1234,\n",
       " 'kevin_o_leary_investment_equity': 1234,\n",
       " 'guest_investment_amount': 1241,\n",
       " 'guest_investment_equity': 1241,\n",
       " 'guest_name': {'standard_nulls': 1241,\n",
       "  'empty_strings': 0,\n",
       "  'specific_values': 0,\n",
       "  'whitespace_only': 0},\n",
       " 'barbara_corcoran_present': 419,\n",
       " 'mark_cuban_present': 373,\n",
       " 'lori_greiner_present': 373,\n",
       " 'robert_herjavec_present': 425,\n",
       " 'daymond_john_present': 423,\n",
       " 'kevin_o_leary_present': 376,\n",
       " 'guest_present': 1310}"
      ]
     },
     "execution_count": 6,
     "metadata": {},
     "output_type": "execute_result"
    }
   ],
   "source": [
    "check_nulls(df)"
   ]
  },
  {
   "cell_type": "code",
   "execution_count": 7,
   "metadata": {},
   "outputs": [
    {
     "data": {
      "text/plain": [
       "[('barbara_corcoran_present', 'barbara_corcoran_investment_amount'),\n",
       " ('mark_cuban_present', 'mark_cuban_investment_amount'),\n",
       " ('lori_greiner_present', 'lori_greiner_investment_amount'),\n",
       " ('robert_herjavec_present', 'robert_herjavec_investment_amount'),\n",
       " ('daymond_john_present', 'daymond_john_investment_amount'),\n",
       " ('kevin_o_leary_present', 'kevin_o_leary_investment_amount')]"
      ]
     },
     "execution_count": 7,
     "metadata": {},
     "output_type": "execute_result"
    }
   ],
   "source": [
    "sharks = [x for x in df.columns if 'present' in x]\n",
    "investment_columns = [x for x in df.columns if 'investment_amount' in x]\n",
    "\n",
    "investment_columns.remove('investment_amount_per_shark')\n",
    "investment_columns.remove('guest_investment_amount')\n",
    "sharks.remove('guest_present')\n",
    "\n",
    "shark_investments = list(zip(sharks,investment_columns))\n",
    "shark_investments"
   ]
  },
  {
   "cell_type": "code",
   "execution_count": 8,
   "metadata": {},
   "outputs": [
    {
     "name": "stdout",
     "output_type": "stream",
     "text": [
      "100000.0 barbara_corcoran_present\n",
      "100000.0 barbara_corcoran_investment_amount\n",
      "50000.0 mark_cuban_present\n",
      "50000.0 mark_cuban_investment_amount\n",
      "nan lori_greiner_present\n",
      "0.0 lori_greiner_investment_amount\n",
      "75000.0 robert_herjavec_present\n",
      "75000.0 robert_herjavec_investment_amount\n",
      "55000.0 daymond_john_present\n",
      "55000.0 daymond_john_investment_amount\n",
      "nan kevin_o_leary_present\n",
      "0.0 kevin_o_leary_investment_amount\n"
     ]
    }
   ],
   "source": [
    "# Before Fix\n",
    "for x in shark_investments:\n",
    "    print(df.loc[df['got_deal'] == True].groupby(x[0])[x[1]].mean().values[0], x[0])\n",
    "    print(df.loc[df['got_deal'] == True].groupby(x[0])[x[1]].sum().values[0], x[1])"
   ]
  },
  {
   "cell_type": "code",
   "execution_count": 9,
   "metadata": {},
   "outputs": [],
   "source": [
    "# REMOVED ROW 6 MARK CUBAN FALSE INVESTMENT of 50000\n",
    "df.loc[(df['got_deal'] == True)&(df['mark_cuban_investment_amount'] == 50000)&(df['mark_cuban_present'] == False)][investment_columns]\n",
    "df.loc[6, 'mark_cuban_investment_amount'] = 0"
   ]
  },
  {
   "cell_type": "code",
   "execution_count": 10,
   "metadata": {},
   "outputs": [],
   "source": [
    "# MOVED ROW 495 BARBARA INVESTMENT TO LORI\n",
    "df.loc[(df['got_deal'] == True)&(df['barbara_corcoran_investment_amount'] == 100000)&(df['barbara_corcoran_present'] == False)][investment_columns]\n",
    "df.loc[495, 'barbara_corcoran_investment_amount'] = 0\n",
    "df.loc[495, 'lori_greiner_investment_amount'] = 100000\n",
    "df.loc[495, 'barbara_corcoran_investment_equity'] = 0\n",
    "df.loc[495, 'lori_greiner_investment_equity'] = 15.0\n"
   ]
  },
  {
   "cell_type": "code",
   "execution_count": 11,
   "metadata": {},
   "outputs": [],
   "source": [
    "# MOVED ROW 491 ROBERT INVESTMENT TO KEVIN\n",
    "df.loc[(df['got_deal'] == True)&(df['robert_herjavec_investment_amount'] == 75000)&(df['robert_herjavec_present'] == False)][investment_columns]\n",
    "df.loc[491, 'robert_herjavec_investment_amount'] = 0\n",
    "df.loc[491, 'kevin_o_leary_investment_amount'] = 75000\n",
    "df.loc[491, 'robert_herjavec_investment_equity'] = 0\n",
    "df.loc[491, 'kevin_o_leary_investment_equity'] = 2.5\n",
    "\n"
   ]
  },
  {
   "cell_type": "code",
   "execution_count": 12,
   "metadata": {},
   "outputs": [],
   "source": [
    "# MOVED ROW 301 DAYMOND INVESTMENT TO LORI\n",
    "df.loc[(df['got_deal'] == True)&(df['daymond_john_investment_amount'] == 55000)&(df['daymond_john_present'] == False)][investment_columns]\n",
    "df.loc[301, 'daymond_john_investment_amount'] = 0\n",
    "df.loc[301, 'lori_greiner_investment_amount'] = 55000\n",
    "df.loc[301, 'daymond_john_investment_equity'] = 0\n",
    "df.loc[301, 'lori_greiner_investment_equity'] = 15.0\n",
    "\n",
    "\n"
   ]
  },
  {
   "cell_type": "code",
   "execution_count": 13,
   "metadata": {},
   "outputs": [
    {
     "name": "stdout",
     "output_type": "stream",
     "text": [
      "0.0 barbara_corcoran_present\n",
      "0.0 barbara_corcoran_investment_amount\n",
      "0.0 mark_cuban_present\n",
      "0.0 mark_cuban_investment_amount\n",
      "nan lori_greiner_present\n",
      "0.0 lori_greiner_investment_amount\n",
      "0.0 robert_herjavec_present\n",
      "0.0 robert_herjavec_investment_amount\n",
      "0.0 daymond_john_present\n",
      "0.0 daymond_john_investment_amount\n",
      "nan kevin_o_leary_present\n",
      "0.0 kevin_o_leary_investment_amount\n"
     ]
    }
   ],
   "source": [
    "# AFTER FIX\n",
    "for x in shark_investments:\n",
    "    print(df.loc[df['got_deal'] == True].groupby(x[0])[x[1]].mean().values[0], x[0])\n",
    "    print(df.loc[df['got_deal'] == True].groupby(x[0])[x[1]].sum().values[0], x[1])\n",
    "    "
   ]
  },
  {
   "cell_type": "code",
   "execution_count": 14,
   "metadata": {},
   "outputs": [
    {
     "data": {
      "text/plain": [
       "{'season_number': 0,\n",
       " 'startup_name': {'standard_nulls': 0,\n",
       "  'empty_strings': 0,\n",
       "  'specific_values': 0,\n",
       "  'whitespace_only': 0},\n",
       " 'episode_number': 0,\n",
       " 'pitch_number': 0,\n",
       " 'season_start': {'standard_nulls': 0,\n",
       "  'empty_strings': 0,\n",
       "  'specific_values': 0,\n",
       "  'whitespace_only': 0},\n",
       " 'season_end': {'standard_nulls': 0,\n",
       "  'empty_strings': 0,\n",
       "  'specific_values': 0,\n",
       "  'whitespace_only': 0},\n",
       " 'original_air_date': {'standard_nulls': 0,\n",
       "  'empty_strings': 0,\n",
       "  'specific_values': 0,\n",
       "  'whitespace_only': 0},\n",
       " 'industry': {'standard_nulls': 0,\n",
       "  'empty_strings': 0,\n",
       "  'specific_values': 0,\n",
       "  'whitespace_only': 0},\n",
       " 'business_description': {'standard_nulls': 0,\n",
       "  'empty_strings': 0,\n",
       "  'specific_values': 0,\n",
       "  'whitespace_only': 0},\n",
       " 'company_website': {'standard_nulls': 758,\n",
       "  'empty_strings': 0,\n",
       "  'specific_values': 0,\n",
       "  'whitespace_only': 0},\n",
       " 'pitchers_gender': {'standard_nulls': 7,\n",
       "  'empty_strings': 0,\n",
       "  'specific_values': 0,\n",
       "  'whitespace_only': 0},\n",
       " 'pitchers_average_age': {'standard_nulls': 936,\n",
       "  'empty_strings': 0,\n",
       "  'specific_values': 0,\n",
       "  'whitespace_only': 0},\n",
       " 'pitchers_city': {'standard_nulls': 830,\n",
       "  'empty_strings': 0,\n",
       "  'specific_values': 0,\n",
       "  'whitespace_only': 0},\n",
       " 'pitchers_state': {'standard_nulls': 565,\n",
       "  'empty_strings': 0,\n",
       "  'specific_values': 0,\n",
       "  'whitespace_only': 0},\n",
       " 'entrepreneur_names': {'standard_nulls': 495,\n",
       "  'empty_strings': 0,\n",
       "  'specific_values': 0,\n",
       "  'whitespace_only': 0},\n",
       " 'multiple_entrepreneurs': 427,\n",
       " 'us_viewership': 0,\n",
       " 'original_ask_amount': 0,\n",
       " 'original_offered_equity': 0,\n",
       " 'valuation_requested': 0,\n",
       " 'got_deal': 0,\n",
       " 'total_deal_amount': 537,\n",
       " 'total_deal_equity': 537,\n",
       " 'deal_valuation': 537,\n",
       " 'number_of_sharks_in_deal': 537,\n",
       " 'investment_amount_per_shark': 537,\n",
       " 'equity_per_shark': 537,\n",
       " 'royalty_deal': 1281,\n",
       " 'advisory_shares_equity': 1358,\n",
       " 'loan': 1304,\n",
       " 'deal_has_conditions': {'standard_nulls': 1359,\n",
       "  'empty_strings': 0,\n",
       "  'specific_values': 0,\n",
       "  'whitespace_only': 0},\n",
       " 'barbara_corcoran_investment_amount': 1231,\n",
       " 'barbara_corcoran_investment_equity': 1231,\n",
       " 'mark_cuban_investment_amount': 1112,\n",
       " 'mark_cuban_investment_equity': 1112,\n",
       " 'lori_greiner_investment_amount': 1142,\n",
       " 'lori_greiner_investment_equity': 1142,\n",
       " 'robert_herjavec_investment_amount': 1234,\n",
       " 'robert_herjavec_investment_equity': 1234,\n",
       " 'daymond_john_investment_amount': 1244,\n",
       " 'daymond_john_investment_equity': 1244,\n",
       " 'kevin_o_leary_investment_amount': 1233,\n",
       " 'kevin_o_leary_investment_equity': 1233,\n",
       " 'guest_investment_amount': 1241,\n",
       " 'guest_investment_equity': 1241,\n",
       " 'guest_name': {'standard_nulls': 1241,\n",
       "  'empty_strings': 0,\n",
       "  'specific_values': 0,\n",
       "  'whitespace_only': 0},\n",
       " 'barbara_corcoran_present': 419,\n",
       " 'mark_cuban_present': 373,\n",
       " 'lori_greiner_present': 373,\n",
       " 'robert_herjavec_present': 425,\n",
       " 'daymond_john_present': 423,\n",
       " 'kevin_o_leary_present': 376,\n",
       " 'guest_present': 1310}"
      ]
     },
     "execution_count": 14,
     "metadata": {},
     "output_type": "execute_result"
    }
   ],
   "source": [
    "check_nulls(df)"
   ]
  },
  {
   "cell_type": "code",
   "execution_count": 15,
   "metadata": {},
   "outputs": [
    {
     "data": {
      "text/plain": [
       "['guest_investment_amount',\n",
       " 'guest_investment_equity',\n",
       " 'guest_name',\n",
       " 'guest_present']"
      ]
     },
     "execution_count": 15,
     "metadata": {},
     "output_type": "execute_result"
    }
   ],
   "source": [
    "guest_columns = [x for x in df.columns if 'guest' in x]\n",
    "guest_columns"
   ]
  },
  {
   "cell_type": "code",
   "execution_count": 16,
   "metadata": {},
   "outputs": [],
   "source": [
    "df.drop(guest_columns, axis=1, inplace=True)"
   ]
  },
  {
   "cell_type": "code",
   "execution_count": 17,
   "metadata": {},
   "outputs": [
    {
     "data": {
      "text/plain": [
       "[]"
      ]
     },
     "execution_count": 17,
     "metadata": {},
     "output_type": "execute_result"
    }
   ],
   "source": [
    "guest_columns = [x for x in df.columns if 'guest' in x]\n",
    "guest_columns"
   ]
  },
  {
   "cell_type": "markdown",
   "metadata": {},
   "source": [
    "### DEALS TABLE --- PENDING\n",
    "##### PENDING ITEMS\n",
    "- NEED PROD TABLE FOR MERGE for prod ID\n",
    "    - NEED TO DROP PROD_TITLE COL AFTER MERGE\n",
    "- NEED EPI TABLE TO MERGE for epi ID\n",
    "    - NEED TO DROP EPI NUM COL AFTER MERGE\n",
    "\n",
    "##### COLS: \n",
    "- deal_id INTEGER PK ----- CREATED\n",
    "- prod_id INTEGER FK >- products.prod_id ---- NEED PROD TABLE FOR MERGE \n",
    "- episode_id INTEGER FK >- episodes.episode_id ---------- NEED EPI TABLE TO MERGE \n",
    "- made_deal BOOLEAN ---- CONVERTED\n",
    "- ask_req INTEGER\n",
    "- equity_req SMALLINT\n",
    "- valuation_req INTEGER\n",
    "- deal_amount INTEGER\n",
    "- deal_equity SMALLINT\n",
    "- deal_valuation INTEGER\n",
    "- per_shark_investment INTEGER\n",
    "- per_shark_equity SMALLINT\n",
    "- deal_air_date DATE ----- CONVERTED\n",
    "\n"
   ]
  },
  {
   "cell_type": "code",
   "execution_count": 83,
   "metadata": {},
   "outputs": [],
   "source": [
    "# Splicing columns for this table\n",
    "\n",
    "deals_df = df[['got_deal', 'original_ask_amount', 'original_offered_equity', 'valuation_requested', 'total_deal_amount', 'total_deal_equity', 'deal_valuation', 'investment_amount_per_shark', 'equity_per_shark', 'original_air_date', 'startup_name', 'episode_number']].copy()"
   ]
  },
  {
   "cell_type": "code",
   "execution_count": 84,
   "metadata": {},
   "outputs": [
    {
     "data": {
      "text/plain": [
       "got_deal                         int64\n",
       "original_ask_amount              int64\n",
       "original_offered_equity        float64\n",
       "valuation_requested              int64\n",
       "total_deal_amount              float64\n",
       "total_deal_equity              float64\n",
       "deal_valuation                 float64\n",
       "investment_amount_per_shark    float64\n",
       "equity_per_shark               float64\n",
       "original_air_date               object\n",
       "startup_name                    object\n",
       "episode_number                   int64\n",
       "dtype: object"
      ]
     },
     "execution_count": 84,
     "metadata": {},
     "output_type": "execute_result"
    }
   ],
   "source": [
    "deals_df.dtypes"
   ]
  },
  {
   "cell_type": "code",
   "execution_count": 85,
   "metadata": {},
   "outputs": [
    {
     "data": {
      "text/plain": [
       "got_deal                       False\n",
       "original_ask_amount            False\n",
       "original_offered_equity        False\n",
       "valuation_requested            False\n",
       "total_deal_amount              False\n",
       "total_deal_equity              False\n",
       "deal_valuation                 False\n",
       "investment_amount_per_shark    False\n",
       "equity_per_shark               False\n",
       "original_air_date              False\n",
       "startup_name                   False\n",
       "episode_number                 False\n",
       "dtype: bool"
      ]
     },
     "execution_count": 85,
     "metadata": {},
     "output_type": "execute_result"
    }
   ],
   "source": [
    "# checking for any potential missing values where they shouldnt be\n",
    "deals_df.loc[deals_df['got_deal'] == 1].isnull().any()"
   ]
  },
  {
   "cell_type": "code",
   "execution_count": 86,
   "metadata": {},
   "outputs": [
    {
     "data": {
      "text/plain": [
       "got_deal                       False\n",
       "original_ask_amount            False\n",
       "original_offered_equity        False\n",
       "valuation_requested            False\n",
       "total_deal_amount               True\n",
       "total_deal_equity               True\n",
       "deal_valuation                  True\n",
       "investment_amount_per_shark     True\n",
       "equity_per_shark                True\n",
       "original_air_date              False\n",
       "startup_name                   False\n",
       "episode_number                 False\n",
       "dtype: bool"
      ]
     },
     "execution_count": 86,
     "metadata": {},
     "output_type": "execute_result"
    }
   ],
   "source": [
    "# checking for any potential missing values where they shouldnt be\n",
    "\n",
    "deals_df.loc[deals_df['got_deal'] == 0].isnull().any()"
   ]
  },
  {
   "cell_type": "code",
   "execution_count": 87,
   "metadata": {},
   "outputs": [],
   "source": [
    "deals_df['got_deal'] = deals_df['got_deal'].astype(bool)\n",
    "deals_df['original_air_date'] = pd.to_datetime(deals_df['original_air_date'], format=\"%d-%b-%y\")"
   ]
  },
  {
   "cell_type": "code",
   "execution_count": 88,
   "metadata": {},
   "outputs": [
    {
     "data": {
      "text/plain": [
       "got_deal                                 bool\n",
       "original_ask_amount                     int64\n",
       "original_offered_equity               float64\n",
       "valuation_requested                     int64\n",
       "total_deal_amount                     float64\n",
       "total_deal_equity                     float64\n",
       "deal_valuation                        float64\n",
       "investment_amount_per_shark           float64\n",
       "equity_per_shark                      float64\n",
       "original_air_date              datetime64[ns]\n",
       "startup_name                           object\n",
       "episode_number                          int64\n",
       "dtype: object"
      ]
     },
     "execution_count": 88,
     "metadata": {},
     "output_type": "execute_result"
    }
   ],
   "source": [
    "deals_df.dtypes"
   ]
  },
  {
   "cell_type": "code",
   "execution_count": 89,
   "metadata": {},
   "outputs": [
    {
     "data": {
      "text/plain": [
       "0      2009-08-09\n",
       "1      2009-08-09\n",
       "2      2009-08-09\n",
       "3      2009-08-09\n",
       "4      2009-08-09\n",
       "          ...    \n",
       "1356   2024-04-19\n",
       "1357   2024-05-03\n",
       "1358   2024-05-03\n",
       "1359   2024-05-03\n",
       "1360   2024-05-03\n",
       "Name: original_air_date, Length: 1361, dtype: datetime64[ns]"
      ]
     },
     "execution_count": 89,
     "metadata": {},
     "output_type": "execute_result"
    }
   ],
   "source": [
    "deals_df.original_air_date"
   ]
  },
  {
   "cell_type": "code",
   "execution_count": 90,
   "metadata": {},
   "outputs": [],
   "source": [
    "deals_df = make_id_column(deals_df, 'deal_id')"
   ]
  },
  {
   "cell_type": "code",
   "execution_count": 92,
   "metadata": {},
   "outputs": [
    {
     "data": {
      "text/html": [
       "<div>\n",
       "<style scoped>\n",
       "    .dataframe tbody tr th:only-of-type {\n",
       "        vertical-align: middle;\n",
       "    }\n",
       "\n",
       "    .dataframe tbody tr th {\n",
       "        vertical-align: top;\n",
       "    }\n",
       "\n",
       "    .dataframe thead th {\n",
       "        text-align: right;\n",
       "    }\n",
       "</style>\n",
       "<table border=\"1\" class=\"dataframe\">\n",
       "  <thead>\n",
       "    <tr style=\"text-align: right;\">\n",
       "      <th></th>\n",
       "      <th>deal_id</th>\n",
       "      <th>got_deal</th>\n",
       "      <th>original_ask_amount</th>\n",
       "      <th>original_offered_equity</th>\n",
       "      <th>valuation_requested</th>\n",
       "      <th>total_deal_amount</th>\n",
       "      <th>total_deal_equity</th>\n",
       "      <th>deal_valuation</th>\n",
       "      <th>investment_amount_per_shark</th>\n",
       "      <th>equity_per_shark</th>\n",
       "      <th>original_air_date</th>\n",
       "      <th>startup_name</th>\n",
       "      <th>episode_number</th>\n",
       "    </tr>\n",
       "  </thead>\n",
       "  <tbody>\n",
       "    <tr>\n",
       "      <th>0</th>\n",
       "      <td>1</td>\n",
       "      <td>True</td>\n",
       "      <td>50000</td>\n",
       "      <td>15.0</td>\n",
       "      <td>333333</td>\n",
       "      <td>50000.0</td>\n",
       "      <td>55.0</td>\n",
       "      <td>90909.0</td>\n",
       "      <td>50000.0</td>\n",
       "      <td>55.0</td>\n",
       "      <td>2009-08-09</td>\n",
       "      <td>AvaTheElephant</td>\n",
       "      <td>1</td>\n",
       "    </tr>\n",
       "    <tr>\n",
       "      <th>1</th>\n",
       "      <td>2</td>\n",
       "      <td>True</td>\n",
       "      <td>460000</td>\n",
       "      <td>10.0</td>\n",
       "      <td>4600000</td>\n",
       "      <td>460000.0</td>\n",
       "      <td>50.0</td>\n",
       "      <td>920000.0</td>\n",
       "      <td>230000.0</td>\n",
       "      <td>25.0</td>\n",
       "      <td>2009-08-09</td>\n",
       "      <td>Mr.Tod'sPieFactory</td>\n",
       "      <td>1</td>\n",
       "    </tr>\n",
       "    <tr>\n",
       "      <th>2</th>\n",
       "      <td>3</td>\n",
       "      <td>False</td>\n",
       "      <td>1200000</td>\n",
       "      <td>10.0</td>\n",
       "      <td>12000000</td>\n",
       "      <td>NaN</td>\n",
       "      <td>NaN</td>\n",
       "      <td>NaN</td>\n",
       "      <td>NaN</td>\n",
       "      <td>NaN</td>\n",
       "      <td>2009-08-09</td>\n",
       "      <td>Wispots</td>\n",
       "      <td>1</td>\n",
       "    </tr>\n",
       "    <tr>\n",
       "      <th>3</th>\n",
       "      <td>4</td>\n",
       "      <td>False</td>\n",
       "      <td>250000</td>\n",
       "      <td>25.0</td>\n",
       "      <td>1000000</td>\n",
       "      <td>NaN</td>\n",
       "      <td>NaN</td>\n",
       "      <td>NaN</td>\n",
       "      <td>NaN</td>\n",
       "      <td>NaN</td>\n",
       "      <td>2009-08-09</td>\n",
       "      <td>CollegeFoxesPackingBoxes</td>\n",
       "      <td>1</td>\n",
       "    </tr>\n",
       "    <tr>\n",
       "      <th>4</th>\n",
       "      <td>5</td>\n",
       "      <td>False</td>\n",
       "      <td>1000000</td>\n",
       "      <td>15.0</td>\n",
       "      <td>6666667</td>\n",
       "      <td>NaN</td>\n",
       "      <td>NaN</td>\n",
       "      <td>NaN</td>\n",
       "      <td>NaN</td>\n",
       "      <td>NaN</td>\n",
       "      <td>2009-08-09</td>\n",
       "      <td>IonicEar</td>\n",
       "      <td>1</td>\n",
       "    </tr>\n",
       "    <tr>\n",
       "      <th>...</th>\n",
       "      <td>...</td>\n",
       "      <td>...</td>\n",
       "      <td>...</td>\n",
       "      <td>...</td>\n",
       "      <td>...</td>\n",
       "      <td>...</td>\n",
       "      <td>...</td>\n",
       "      <td>...</td>\n",
       "      <td>...</td>\n",
       "      <td>...</td>\n",
       "      <td>...</td>\n",
       "      <td>...</td>\n",
       "      <td>...</td>\n",
       "    </tr>\n",
       "    <tr>\n",
       "      <th>1356</th>\n",
       "      <td>1357</td>\n",
       "      <td>True</td>\n",
       "      <td>1500000</td>\n",
       "      <td>5.0</td>\n",
       "      <td>30000000</td>\n",
       "      <td>1500000.0</td>\n",
       "      <td>9.0</td>\n",
       "      <td>16666667.0</td>\n",
       "      <td>750000.0</td>\n",
       "      <td>4.5</td>\n",
       "      <td>2024-04-19</td>\n",
       "      <td>RoboBurger</td>\n",
       "      <td>21</td>\n",
       "    </tr>\n",
       "    <tr>\n",
       "      <th>1357</th>\n",
       "      <td>1358</td>\n",
       "      <td>False</td>\n",
       "      <td>100000</td>\n",
       "      <td>10.0</td>\n",
       "      <td>1000000</td>\n",
       "      <td>NaN</td>\n",
       "      <td>NaN</td>\n",
       "      <td>NaN</td>\n",
       "      <td>NaN</td>\n",
       "      <td>NaN</td>\n",
       "      <td>2024-05-03</td>\n",
       "      <td>SipHerbals</td>\n",
       "      <td>22</td>\n",
       "    </tr>\n",
       "    <tr>\n",
       "      <th>1358</th>\n",
       "      <td>1359</td>\n",
       "      <td>True</td>\n",
       "      <td>500000</td>\n",
       "      <td>2.0</td>\n",
       "      <td>25000000</td>\n",
       "      <td>500000.0</td>\n",
       "      <td>3.5</td>\n",
       "      <td>14285714.0</td>\n",
       "      <td>500000.0</td>\n",
       "      <td>3.5</td>\n",
       "      <td>2024-05-03</td>\n",
       "      <td>mosh</td>\n",
       "      <td>22</td>\n",
       "    </tr>\n",
       "    <tr>\n",
       "      <th>1359</th>\n",
       "      <td>1360</td>\n",
       "      <td>False</td>\n",
       "      <td>500000</td>\n",
       "      <td>4.0</td>\n",
       "      <td>12500000</td>\n",
       "      <td>NaN</td>\n",
       "      <td>NaN</td>\n",
       "      <td>NaN</td>\n",
       "      <td>NaN</td>\n",
       "      <td>NaN</td>\n",
       "      <td>2024-05-03</td>\n",
       "      <td>ARBER</td>\n",
       "      <td>22</td>\n",
       "    </tr>\n",
       "    <tr>\n",
       "      <th>1360</th>\n",
       "      <td>1361</td>\n",
       "      <td>True</td>\n",
       "      <td>250000</td>\n",
       "      <td>5.0</td>\n",
       "      <td>5000000</td>\n",
       "      <td>250000.0</td>\n",
       "      <td>8.0</td>\n",
       "      <td>3125000.0</td>\n",
       "      <td>250000.0</td>\n",
       "      <td>8.0</td>\n",
       "      <td>2024-05-03</td>\n",
       "      <td>flaus</td>\n",
       "      <td>22</td>\n",
       "    </tr>\n",
       "  </tbody>\n",
       "</table>\n",
       "<p>1361 rows × 13 columns</p>\n",
       "</div>"
      ],
      "text/plain": [
       "      deal_id  got_deal  original_ask_amount  original_offered_equity  \\\n",
       "0           1      True                50000                     15.0   \n",
       "1           2      True               460000                     10.0   \n",
       "2           3     False              1200000                     10.0   \n",
       "3           4     False               250000                     25.0   \n",
       "4           5     False              1000000                     15.0   \n",
       "...       ...       ...                  ...                      ...   \n",
       "1356     1357      True              1500000                      5.0   \n",
       "1357     1358     False               100000                     10.0   \n",
       "1358     1359      True               500000                      2.0   \n",
       "1359     1360     False               500000                      4.0   \n",
       "1360     1361      True               250000                      5.0   \n",
       "\n",
       "      valuation_requested  total_deal_amount  total_deal_equity  \\\n",
       "0                  333333            50000.0               55.0   \n",
       "1                 4600000           460000.0               50.0   \n",
       "2                12000000                NaN                NaN   \n",
       "3                 1000000                NaN                NaN   \n",
       "4                 6666667                NaN                NaN   \n",
       "...                   ...                ...                ...   \n",
       "1356             30000000          1500000.0                9.0   \n",
       "1357              1000000                NaN                NaN   \n",
       "1358             25000000           500000.0                3.5   \n",
       "1359             12500000                NaN                NaN   \n",
       "1360              5000000           250000.0                8.0   \n",
       "\n",
       "      deal_valuation  investment_amount_per_shark  equity_per_shark  \\\n",
       "0            90909.0                      50000.0              55.0   \n",
       "1           920000.0                     230000.0              25.0   \n",
       "2                NaN                          NaN               NaN   \n",
       "3                NaN                          NaN               NaN   \n",
       "4                NaN                          NaN               NaN   \n",
       "...              ...                          ...               ...   \n",
       "1356      16666667.0                     750000.0               4.5   \n",
       "1357             NaN                          NaN               NaN   \n",
       "1358      14285714.0                     500000.0               3.5   \n",
       "1359             NaN                          NaN               NaN   \n",
       "1360       3125000.0                     250000.0               8.0   \n",
       "\n",
       "     original_air_date              startup_name  episode_number  \n",
       "0           2009-08-09            AvaTheElephant               1  \n",
       "1           2009-08-09        Mr.Tod'sPieFactory               1  \n",
       "2           2009-08-09                   Wispots               1  \n",
       "3           2009-08-09  CollegeFoxesPackingBoxes               1  \n",
       "4           2009-08-09                  IonicEar               1  \n",
       "...                ...                       ...             ...  \n",
       "1356        2024-04-19                RoboBurger              21  \n",
       "1357        2024-05-03                SipHerbals              22  \n",
       "1358        2024-05-03                      mosh              22  \n",
       "1359        2024-05-03                     ARBER              22  \n",
       "1360        2024-05-03                     flaus              22  \n",
       "\n",
       "[1361 rows x 13 columns]"
      ]
     },
     "execution_count": 92,
     "metadata": {},
     "output_type": "execute_result"
    }
   ],
   "source": [
    "deals_df"
   ]
  },
  {
   "cell_type": "markdown",
   "metadata": {},
   "source": [
    "### SHARKS TABLE - COMPLETE\n",
    "\n",
    "##### COLS:\n",
    "- shark_id INTEGER PK\n",
    "- shark_first_name VARCHAR(25) --- CREATED\n",
    "- shark_last_name VARCHAR(25)  --- CREATED\n"
   ]
  },
  {
   "cell_type": "code",
   "execution_count": 93,
   "metadata": {},
   "outputs": [
    {
     "data": {
      "text/plain": [
       "['barbara_corcoran_present',\n",
       " 'mark_cuban_present',\n",
       " 'lori_greiner_present',\n",
       " 'robert_herjavec_present',\n",
       " 'daymond_john_present',\n",
       " 'kevin_o_leary_present']"
      ]
     },
     "execution_count": 93,
     "metadata": {},
     "output_type": "execute_result"
    }
   ],
   "source": [
    "sharks"
   ]
  },
  {
   "cell_type": "code",
   "execution_count": 95,
   "metadata": {},
   "outputs": [
    {
     "data": {
      "text/plain": [
       "[['barbara', 'corcoran'],\n",
       " ['mark', 'cuban'],\n",
       " ['lori', 'greiner'],\n",
       " ['robert', 'herjavec'],\n",
       " ['daymond', 'john'],\n",
       " ['kevin', 'leary']]"
      ]
     },
     "execution_count": 95,
     "metadata": {},
     "output_type": "execute_result"
    }
   ],
   "source": [
    "shark_names = []\n",
    "for x in sharks:\n",
    "    split_names = x.split('_')\n",
    "    split_names.remove('present')\n",
    "    shark_names.append(split_names)\n",
    "    \n",
    "for x in shark_names:\n",
    "    if len(x) > 2:\n",
    "        x.remove('o')\n",
    "    \n",
    "shark_names"
   ]
  },
  {
   "cell_type": "code",
   "execution_count": 96,
   "metadata": {},
   "outputs": [],
   "source": [
    "sharks_df = pd.DataFrame(shark_names, columns=['shark_first_name', 'shark_last_name'])"
   ]
  },
  {
   "cell_type": "code",
   "execution_count": 97,
   "metadata": {},
   "outputs": [
    {
     "data": {
      "text/html": [
       "<div>\n",
       "<style scoped>\n",
       "    .dataframe tbody tr th:only-of-type {\n",
       "        vertical-align: middle;\n",
       "    }\n",
       "\n",
       "    .dataframe tbody tr th {\n",
       "        vertical-align: top;\n",
       "    }\n",
       "\n",
       "    .dataframe thead th {\n",
       "        text-align: right;\n",
       "    }\n",
       "</style>\n",
       "<table border=\"1\" class=\"dataframe\">\n",
       "  <thead>\n",
       "    <tr style=\"text-align: right;\">\n",
       "      <th></th>\n",
       "      <th>shark_id</th>\n",
       "      <th>shark_first_name</th>\n",
       "      <th>shark_last_name</th>\n",
       "    </tr>\n",
       "  </thead>\n",
       "  <tbody>\n",
       "    <tr>\n",
       "      <th>0</th>\n",
       "      <td>1</td>\n",
       "      <td>barbara</td>\n",
       "      <td>corcoran</td>\n",
       "    </tr>\n",
       "    <tr>\n",
       "      <th>1</th>\n",
       "      <td>2</td>\n",
       "      <td>mark</td>\n",
       "      <td>cuban</td>\n",
       "    </tr>\n",
       "    <tr>\n",
       "      <th>2</th>\n",
       "      <td>3</td>\n",
       "      <td>lori</td>\n",
       "      <td>greiner</td>\n",
       "    </tr>\n",
       "    <tr>\n",
       "      <th>3</th>\n",
       "      <td>4</td>\n",
       "      <td>robert</td>\n",
       "      <td>herjavec</td>\n",
       "    </tr>\n",
       "    <tr>\n",
       "      <th>4</th>\n",
       "      <td>5</td>\n",
       "      <td>daymond</td>\n",
       "      <td>john</td>\n",
       "    </tr>\n",
       "    <tr>\n",
       "      <th>5</th>\n",
       "      <td>6</td>\n",
       "      <td>kevin</td>\n",
       "      <td>leary</td>\n",
       "    </tr>\n",
       "  </tbody>\n",
       "</table>\n",
       "</div>"
      ],
      "text/plain": [
       "   shark_id shark_first_name shark_last_name\n",
       "0         1          barbara        corcoran\n",
       "1         2             mark           cuban\n",
       "2         3             lori         greiner\n",
       "3         4           robert        herjavec\n",
       "4         5          daymond            john\n",
       "5         6            kevin           leary"
      ]
     },
     "execution_count": 97,
     "metadata": {},
     "output_type": "execute_result"
    }
   ],
   "source": [
    "sharks_df = make_id_column(sharks_df, 'shark_id')\n",
    "sharks_df"
   ]
  },
  {
   "cell_type": "code",
   "execution_count": null,
   "metadata": {},
   "outputs": [],
   "source": []
  },
  {
   "cell_type": "code",
   "execution_count": null,
   "metadata": {},
   "outputs": [],
   "source": []
  }
 ],
 "metadata": {
  "kernelspec": {
   "display_name": "base",
   "language": "python",
   "name": "python3"
  },
  "language_info": {
   "codemirror_mode": {
    "name": "ipython",
    "version": 3
   },
   "file_extension": ".py",
   "mimetype": "text/x-python",
   "name": "python",
   "nbconvert_exporter": "python",
   "pygments_lexer": "ipython3",
   "version": "3.11.7"
  }
 },
 "nbformat": 4,
 "nbformat_minor": 2
}
